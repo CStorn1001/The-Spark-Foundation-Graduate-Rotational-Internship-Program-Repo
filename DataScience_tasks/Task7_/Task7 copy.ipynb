{
 "cells": [
  {
   "cell_type": "code",
   "execution_count": 31,
   "metadata": {},
   "outputs": [],
   "source": [
    "import yfinance as yf\n",
    "from pandas_datareader.data import web\n",
    "import datetime as dt\n",
    "import pandas as pd\n",
    "import numpy as np\n",
    "import plotly.express as px\n",
    "import matplotlib.pyplot as pyplot\n",
    "%matplotlib inline\n",
    "\n",
    "\n"
   ]
  },
  {
   "cell_type": "code",
   "execution_count": 47,
   "metadata": {},
   "outputs": [],
   "source": [
    "start_date = dt.datetime(2020,1,1)\n",
    "end_date = dt.datetime(2023,3,1)\n",
    "# tickers = ['AAPL', 'AMZN', '^GSPC', 'META', '^GSPC', 'MSFT']\n",
    "# for t in tickers:\n",
    "#     t = web.DataReader(t, 'stooq', start_date, end_date\n",
    "aapl = web.DataReader('META', 'stooq', start_date, end_date)\n",
    "gspc = web.DataReader('^GSPC', 'stooq', start_date, end_date)\n",
    "msft = web.DataReader('MSFT', 'stooq', start_date, end_date)\n",
    "tsla = web.DataReader('TSLA', 'stooq', start_date, end_date)\n",
    "aapl = web.DataReader('AAPL', 'stooq', start_date, end_date)\n",
    "amzn = web.DataReader('AMZN', 'stooq', start_date, end_date)\n"
   ]
  },
  {
   "cell_type": "code",
   "execution_count": 48,
   "metadata": {},
   "outputs": [
    {
     "data": {
      "text/html": [
       "<div>\n",
       "<style scoped>\n",
       "    .dataframe tbody tr th:only-of-type {\n",
       "        vertical-align: middle;\n",
       "    }\n",
       "\n",
       "    .dataframe tbody tr th {\n",
       "        vertical-align: top;\n",
       "    }\n",
       "\n",
       "    .dataframe thead th {\n",
       "        text-align: right;\n",
       "    }\n",
       "</style>\n",
       "<table border=\"1\" class=\"dataframe\">\n",
       "  <thead>\n",
       "    <tr style=\"text-align: right;\">\n",
       "      <th></th>\n",
       "      <th>Open</th>\n",
       "      <th>High</th>\n",
       "      <th>Low</th>\n",
       "      <th>Close</th>\n",
       "      <th>Volume</th>\n",
       "    </tr>\n",
       "    <tr>\n",
       "      <th>Date</th>\n",
       "      <th></th>\n",
       "      <th></th>\n",
       "      <th></th>\n",
       "      <th></th>\n",
       "      <th></th>\n",
       "    </tr>\n",
       "  </thead>\n",
       "  <tbody>\n",
       "    <tr>\n",
       "      <th>2023-03-01</th>\n",
       "      <td>93.87</td>\n",
       "      <td>94.68</td>\n",
       "      <td>91.5900</td>\n",
       "      <td>92.17</td>\n",
       "      <td>52299524</td>\n",
       "    </tr>\n",
       "    <tr>\n",
       "      <th>2023-02-28</th>\n",
       "      <td>93.14</td>\n",
       "      <td>94.69</td>\n",
       "      <td>92.9200</td>\n",
       "      <td>94.23</td>\n",
       "      <td>43959290</td>\n",
       "    </tr>\n",
       "    <tr>\n",
       "      <th>2023-02-27</th>\n",
       "      <td>94.28</td>\n",
       "      <td>94.78</td>\n",
       "      <td>93.1400</td>\n",
       "      <td>93.76</td>\n",
       "      <td>47470321</td>\n",
       "    </tr>\n",
       "    <tr>\n",
       "      <th>2023-02-24</th>\n",
       "      <td>93.53</td>\n",
       "      <td>94.14</td>\n",
       "      <td>92.3186</td>\n",
       "      <td>93.50</td>\n",
       "      <td>57053812</td>\n",
       "    </tr>\n",
       "    <tr>\n",
       "      <th>2023-02-23</th>\n",
       "      <td>96.12</td>\n",
       "      <td>96.43</td>\n",
       "      <td>93.6700</td>\n",
       "      <td>95.82</td>\n",
       "      <td>48466994</td>\n",
       "    </tr>\n",
       "  </tbody>\n",
       "</table>\n",
       "</div>"
      ],
      "text/plain": [
       "             Open   High      Low  Close    Volume\n",
       "Date                                              \n",
       "2023-03-01  93.87  94.68  91.5900  92.17  52299524\n",
       "2023-02-28  93.14  94.69  92.9200  94.23  43959290\n",
       "2023-02-27  94.28  94.78  93.1400  93.76  47470321\n",
       "2023-02-24  93.53  94.14  92.3186  93.50  57053812\n",
       "2023-02-23  96.12  96.43  93.6700  95.82  48466994"
      ]
     },
     "execution_count": 48,
     "metadata": {},
     "output_type": "execute_result"
    }
   ],
   "source": [
    "amzn.head()"
   ]
  },
  {
   "cell_type": "code",
   "execution_count": null,
   "metadata": {},
   "outputs": [],
   "source": [
    "msft"
   ]
  }
 ],
 "metadata": {
  "kernelspec": {
   "display_name": "Python 3",
   "language": "python",
   "name": "python3"
  },
  "language_info": {
   "codemirror_mode": {
    "name": "ipython",
    "version": 3
   },
   "file_extension": ".py",
   "mimetype": "text/x-python",
   "name": "python",
   "nbconvert_exporter": "python",
   "pygments_lexer": "ipython3",
   "version": "3.10.7"
  },
  "orig_nbformat": 4
 },
 "nbformat": 4,
 "nbformat_minor": 2
}
